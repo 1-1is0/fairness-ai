{
 "cells": [
  {
   "cell_type": "code",
   "execution_count": 67,
   "metadata": {},
   "outputs": [
    {
     "name": "stdout",
     "output_type": "stream",
     "text": [
      "The autoreload extension is already loaded. To reload it, use:\n",
      "  %reload_ext autoreload\n"
     ]
    }
   ],
   "source": [
    "%load_ext autoreload\n",
    "%autoreload 2"
   ]
  },
  {
   "cell_type": "code",
   "execution_count": 68,
   "metadata": {},
   "outputs": [
    {
     "name": "stdout",
     "output_type": "stream",
     "text": [
      "cuda:0\n"
     ]
    }
   ],
   "source": [
    "import os\n",
    "import random\n",
    "import numpy as np\n",
    "import torch\n",
    "import torchvision\n",
    "from torchvision import transforms\n",
    "from albumentations.pytorch import ToTensorV2\n",
    "import albumentations as A\n",
    "from PIL import Image\n",
    "\n",
    "seed = 42\n",
    "random.seed(seed)\n",
    "np.random.seed(seed)\n",
    "torch.manual_seed(seed)\n",
    "if torch.cuda.is_available():\n",
    "    torch.cuda.manual_seed_all(seed)\n",
    "\n",
    "torch.backends.cudnn.benchmark = True\n",
    "\n",
    "\n",
    "device = torch.device(\"cuda:0\" if torch.cuda.is_available() else \"cpu\")\n",
    "print(device)"
   ]
  },
  {
   "cell_type": "code",
   "execution_count": 91,
   "metadata": {},
   "outputs": [
    {
     "name": "stdout",
     "output_type": "stream",
     "text": [
      "zsh:1: parse error near `;'\n"
     ]
    }
   ],
   "source": [
    "!if [[ -z \"${KAGGLE_KERNEL_RUN_TYPE}\"]]; then echo \"kaggle\"; else echo \"local\"; fi"
   ]
  },
  {
   "cell_type": "code",
   "execution_count": 96,
   "metadata": {},
   "outputs": [
    {
     "name": "stdout",
     "output_type": "stream",
     "text": [
      "local\n"
     ]
    }
   ],
   "source": [
    "%%bash\n",
    "(\n",
    "if [[ -z \"${KAGGLE_KERNEL_RUN_TYPE}\" ]]; then\n",
    "    echo \"local\"\n",
    "else\n",
    "    echo \"kaggle\";\n",
    "    # git clone \n",
    "fi\n",
    ")"
   ]
  },
  {
   "cell_type": "code",
   "execution_count": 69,
   "metadata": {},
   "outputs": [],
   "source": [
    "from typing import Callable, Optional, Any, Tuple\n",
    "\n",
    "\n",
    "class CustomCIFAR10(torchvision.datasets.CIFAR10):\n",
    "    def __init__(self, root: str, train: bool = True, transform: Callable[..., Any] | None = None, target_transform: Callable[..., Any] | None = None, download: bool = False) -> None:\n",
    "        super().__init__(root, train, transform, target_transform, download)\n",
    "        all_a, all_b = [], []\n",
    "        for a, b in zip(self.data, self.targets):\n",
    "            remove_class_name = \"frog\"\n",
    "            remove_index = self.classes.index(remove_class_name)\n",
    "            if b != remove_index:\n",
    "                all_a.append(a)\n",
    "                if b > remove_index:\n",
    "                    all_b.append(b-1)\n",
    "                else:\n",
    "                    all_b.append(b)\n",
    "        self.data = all_a\n",
    "        self.targets = all_b\n",
    "        self.classes.remove(remove_class_name)\n",
    "        \n",
    "\n",
    "    def __getitem__(self, index: int) -> Tuple[Any, Any]:\n",
    "        img, target = self.data[index], self.targets[index]\n",
    "\n",
    "        # doing this so that it is consistent with all other datasets\n",
    "        # to return a PIL Image\n",
    "        img = Image.fromarray(img)\n",
    "        img = np.array(img)\n",
    "\n",
    "        if self.transform is not None:\n",
    "            img = self.transform(image=img)['image']\n",
    "\n",
    "        if self.target_transform is not None:\n",
    "            target = self.target_transform(target)\n",
    "\n",
    "        return img, target"
   ]
  },
  {
   "cell_type": "code",
   "execution_count": 70,
   "metadata": {},
   "outputs": [
    {
     "name": "stdout",
     "output_type": "stream",
     "text": [
      "Files already downloaded and verified\n",
      "Files already downloaded and verified\n"
     ]
    }
   ],
   "source": [
    "from multiprocessing import cpu_count\n",
    "\n",
    "mean = np.array([0.4914, 0.4822, 0.4465])\n",
    "std = np.array([0.2023, 0.1994, 0.2010])\n",
    "\n",
    "transform_train = A.Compose([\n",
    "    A.Resize(32, 32),\n",
    "    A.HorizontalFlip(p=0.5),\n",
    "    A.RandomBrightnessContrast(p=0.2),\n",
    "    A.RandomGamma(p=0.2),\n",
    "    A.GaussNoise(p=0.5),\n",
    "    A.ColorJitter(brightness=0.2, contrast=0.2, saturation=0.2, hue=0.2, p=0.2),\n",
    "    A.Normalize(mean=mean, std=std),\n",
    "    A.pytorch.ToTensorV2(),\n",
    "])\n",
    "\n",
    "transform_test = A.Compose([\n",
    "        A.Resize(32, 32),\n",
    "        A.Normalize(mean=mean, std=std),\n",
    "        A.pytorch.ToTensorV2(),\n",
    "    ])\n",
    "\n",
    "train_dataset = CustomCIFAR10('data', train=True, download=True, transform=transform_train)\n",
    "test_dataset = CustomCIFAR10('data', train=False, download=True, transform=transform_test)\n",
    "\n",
    "\n",
    "batch_size = 64\n",
    "num_workers = cpu_count() - 2\n",
    "shuffle = True\n",
    "drop_last = True\n",
    "pin_memory = True if device.type == 'cuda' else False\n",
    "\n",
    "train_loader = torch.utils.data.DataLoader(train_dataset, batch_size=batch_size, shuffle=shuffle, num_workers=num_workers, pin_memory=pin_memory, drop_last=drop_last)\n",
    "test_loader = torch.utils.data.DataLoader(test_dataset, batch_size=batch_size, shuffle=shuffle, num_workers=num_workers, pin_memory=pin_memory, drop_last=drop_last)\n"
   ]
  },
  {
   "cell_type": "code",
   "execution_count": 71,
   "metadata": {},
   "outputs": [],
   "source": [
    "model = torchvision.models.resnet18(weights=torchvision.models.ResNet18_Weights.DEFAULT)"
   ]
  },
  {
   "cell_type": "code",
   "execution_count": 72,
   "metadata": {},
   "outputs": [
    {
     "data": {
      "text/plain": [
       "ResNet(\n",
       "  (conv1): Conv2d(3, 64, kernel_size=(7, 7), stride=(2, 2), padding=(3, 3), bias=False)\n",
       "  (bn1): BatchNorm2d(64, eps=1e-05, momentum=0.1, affine=True, track_running_stats=True)\n",
       "  (relu): ReLU(inplace=True)\n",
       "  (maxpool): MaxPool2d(kernel_size=3, stride=2, padding=1, dilation=1, ceil_mode=False)\n",
       "  (layer1): Sequential(\n",
       "    (0): BasicBlock(\n",
       "      (conv1): Conv2d(64, 64, kernel_size=(3, 3), stride=(1, 1), padding=(1, 1), bias=False)\n",
       "      (bn1): BatchNorm2d(64, eps=1e-05, momentum=0.1, affine=True, track_running_stats=True)\n",
       "      (relu): ReLU(inplace=True)\n",
       "      (conv2): Conv2d(64, 64, kernel_size=(3, 3), stride=(1, 1), padding=(1, 1), bias=False)\n",
       "      (bn2): BatchNorm2d(64, eps=1e-05, momentum=0.1, affine=True, track_running_stats=True)\n",
       "    )\n",
       "    (1): BasicBlock(\n",
       "      (conv1): Conv2d(64, 64, kernel_size=(3, 3), stride=(1, 1), padding=(1, 1), bias=False)\n",
       "      (bn1): BatchNorm2d(64, eps=1e-05, momentum=0.1, affine=True, track_running_stats=True)\n",
       "      (relu): ReLU(inplace=True)\n",
       "      (conv2): Conv2d(64, 64, kernel_size=(3, 3), stride=(1, 1), padding=(1, 1), bias=False)\n",
       "      (bn2): BatchNorm2d(64, eps=1e-05, momentum=0.1, affine=True, track_running_stats=True)\n",
       "    )\n",
       "  )\n",
       "  (layer2): Sequential(\n",
       "    (0): BasicBlock(\n",
       "      (conv1): Conv2d(64, 128, kernel_size=(3, 3), stride=(2, 2), padding=(1, 1), bias=False)\n",
       "      (bn1): BatchNorm2d(128, eps=1e-05, momentum=0.1, affine=True, track_running_stats=True)\n",
       "      (relu): ReLU(inplace=True)\n",
       "      (conv2): Conv2d(128, 128, kernel_size=(3, 3), stride=(1, 1), padding=(1, 1), bias=False)\n",
       "      (bn2): BatchNorm2d(128, eps=1e-05, momentum=0.1, affine=True, track_running_stats=True)\n",
       "      (downsample): Sequential(\n",
       "        (0): Conv2d(64, 128, kernel_size=(1, 1), stride=(2, 2), bias=False)\n",
       "        (1): BatchNorm2d(128, eps=1e-05, momentum=0.1, affine=True, track_running_stats=True)\n",
       "      )\n",
       "    )\n",
       "    (1): BasicBlock(\n",
       "      (conv1): Conv2d(128, 128, kernel_size=(3, 3), stride=(1, 1), padding=(1, 1), bias=False)\n",
       "      (bn1): BatchNorm2d(128, eps=1e-05, momentum=0.1, affine=True, track_running_stats=True)\n",
       "      (relu): ReLU(inplace=True)\n",
       "      (conv2): Conv2d(128, 128, kernel_size=(3, 3), stride=(1, 1), padding=(1, 1), bias=False)\n",
       "      (bn2): BatchNorm2d(128, eps=1e-05, momentum=0.1, affine=True, track_running_stats=True)\n",
       "    )\n",
       "  )\n",
       "  (layer3): Sequential(\n",
       "    (0): BasicBlock(\n",
       "      (conv1): Conv2d(128, 256, kernel_size=(3, 3), stride=(2, 2), padding=(1, 1), bias=False)\n",
       "      (bn1): BatchNorm2d(256, eps=1e-05, momentum=0.1, affine=True, track_running_stats=True)\n",
       "      (relu): ReLU(inplace=True)\n",
       "      (conv2): Conv2d(256, 256, kernel_size=(3, 3), stride=(1, 1), padding=(1, 1), bias=False)\n",
       "      (bn2): BatchNorm2d(256, eps=1e-05, momentum=0.1, affine=True, track_running_stats=True)\n",
       "      (downsample): Sequential(\n",
       "        (0): Conv2d(128, 256, kernel_size=(1, 1), stride=(2, 2), bias=False)\n",
       "        (1): BatchNorm2d(256, eps=1e-05, momentum=0.1, affine=True, track_running_stats=True)\n",
       "      )\n",
       "    )\n",
       "    (1): BasicBlock(\n",
       "      (conv1): Conv2d(256, 256, kernel_size=(3, 3), stride=(1, 1), padding=(1, 1), bias=False)\n",
       "      (bn1): BatchNorm2d(256, eps=1e-05, momentum=0.1, affine=True, track_running_stats=True)\n",
       "      (relu): ReLU(inplace=True)\n",
       "      (conv2): Conv2d(256, 256, kernel_size=(3, 3), stride=(1, 1), padding=(1, 1), bias=False)\n",
       "      (bn2): BatchNorm2d(256, eps=1e-05, momentum=0.1, affine=True, track_running_stats=True)\n",
       "    )\n",
       "  )\n",
       "  (layer4): Sequential(\n",
       "    (0): BasicBlock(\n",
       "      (conv1): Conv2d(256, 512, kernel_size=(3, 3), stride=(2, 2), padding=(1, 1), bias=False)\n",
       "      (bn1): BatchNorm2d(512, eps=1e-05, momentum=0.1, affine=True, track_running_stats=True)\n",
       "      (relu): ReLU(inplace=True)\n",
       "      (conv2): Conv2d(512, 512, kernel_size=(3, 3), stride=(1, 1), padding=(1, 1), bias=False)\n",
       "      (bn2): BatchNorm2d(512, eps=1e-05, momentum=0.1, affine=True, track_running_stats=True)\n",
       "      (downsample): Sequential(\n",
       "        (0): Conv2d(256, 512, kernel_size=(1, 1), stride=(2, 2), bias=False)\n",
       "        (1): BatchNorm2d(512, eps=1e-05, momentum=0.1, affine=True, track_running_stats=True)\n",
       "      )\n",
       "    )\n",
       "    (1): BasicBlock(\n",
       "      (conv1): Conv2d(512, 512, kernel_size=(3, 3), stride=(1, 1), padding=(1, 1), bias=False)\n",
       "      (bn1): BatchNorm2d(512, eps=1e-05, momentum=0.1, affine=True, track_running_stats=True)\n",
       "      (relu): ReLU(inplace=True)\n",
       "      (conv2): Conv2d(512, 512, kernel_size=(3, 3), stride=(1, 1), padding=(1, 1), bias=False)\n",
       "      (bn2): BatchNorm2d(512, eps=1e-05, momentum=0.1, affine=True, track_running_stats=True)\n",
       "    )\n",
       "  )\n",
       "  (avgpool): AdaptiveAvgPool2d(output_size=(1, 1))\n",
       "  (fc): Linear(in_features=512, out_features=1000, bias=True)\n",
       ")"
      ]
     },
     "execution_count": 72,
     "metadata": {},
     "output_type": "execute_result"
    }
   ],
   "source": [
    "model"
   ]
  },
  {
   "cell_type": "code",
   "execution_count": 73,
   "metadata": {},
   "outputs": [],
   "source": [
    "from torch import nn\n",
    "\n",
    "for p in model.parameters():\n",
    "    p.requires_grad = False\n",
    "\n",
    "head = nn.Sequential(\n",
    "    nn.BatchNorm1d(512),\n",
    "    nn.ReLU(),\n",
    "    nn.Dropout(0.5),\n",
    "    nn.Linear(512, 250),\n",
    "    nn.BatchNorm1d(250),\n",
    "    nn.ReLU(),\n",
    "    nn.Dropout(0.5),\n",
    "    nn.Linear(250, 10)\n",
    ")\n",
    "\n",
    "model.fc = head"
   ]
  },
  {
   "cell_type": "code",
   "execution_count": 74,
   "metadata": {},
   "outputs": [
    {
     "data": {
      "text/plain": [
       "ResNet(\n",
       "  (conv1): Conv2d(3, 64, kernel_size=(7, 7), stride=(2, 2), padding=(3, 3), bias=False)\n",
       "  (bn1): BatchNorm2d(64, eps=1e-05, momentum=0.1, affine=True, track_running_stats=True)\n",
       "  (relu): ReLU(inplace=True)\n",
       "  (maxpool): MaxPool2d(kernel_size=3, stride=2, padding=1, dilation=1, ceil_mode=False)\n",
       "  (layer1): Sequential(\n",
       "    (0): BasicBlock(\n",
       "      (conv1): Conv2d(64, 64, kernel_size=(3, 3), stride=(1, 1), padding=(1, 1), bias=False)\n",
       "      (bn1): BatchNorm2d(64, eps=1e-05, momentum=0.1, affine=True, track_running_stats=True)\n",
       "      (relu): ReLU(inplace=True)\n",
       "      (conv2): Conv2d(64, 64, kernel_size=(3, 3), stride=(1, 1), padding=(1, 1), bias=False)\n",
       "      (bn2): BatchNorm2d(64, eps=1e-05, momentum=0.1, affine=True, track_running_stats=True)\n",
       "    )\n",
       "    (1): BasicBlock(\n",
       "      (conv1): Conv2d(64, 64, kernel_size=(3, 3), stride=(1, 1), padding=(1, 1), bias=False)\n",
       "      (bn1): BatchNorm2d(64, eps=1e-05, momentum=0.1, affine=True, track_running_stats=True)\n",
       "      (relu): ReLU(inplace=True)\n",
       "      (conv2): Conv2d(64, 64, kernel_size=(3, 3), stride=(1, 1), padding=(1, 1), bias=False)\n",
       "      (bn2): BatchNorm2d(64, eps=1e-05, momentum=0.1, affine=True, track_running_stats=True)\n",
       "    )\n",
       "  )\n",
       "  (layer2): Sequential(\n",
       "    (0): BasicBlock(\n",
       "      (conv1): Conv2d(64, 128, kernel_size=(3, 3), stride=(2, 2), padding=(1, 1), bias=False)\n",
       "      (bn1): BatchNorm2d(128, eps=1e-05, momentum=0.1, affine=True, track_running_stats=True)\n",
       "      (relu): ReLU(inplace=True)\n",
       "      (conv2): Conv2d(128, 128, kernel_size=(3, 3), stride=(1, 1), padding=(1, 1), bias=False)\n",
       "      (bn2): BatchNorm2d(128, eps=1e-05, momentum=0.1, affine=True, track_running_stats=True)\n",
       "      (downsample): Sequential(\n",
       "        (0): Conv2d(64, 128, kernel_size=(1, 1), stride=(2, 2), bias=False)\n",
       "        (1): BatchNorm2d(128, eps=1e-05, momentum=0.1, affine=True, track_running_stats=True)\n",
       "      )\n",
       "    )\n",
       "    (1): BasicBlock(\n",
       "      (conv1): Conv2d(128, 128, kernel_size=(3, 3), stride=(1, 1), padding=(1, 1), bias=False)\n",
       "      (bn1): BatchNorm2d(128, eps=1e-05, momentum=0.1, affine=True, track_running_stats=True)\n",
       "      (relu): ReLU(inplace=True)\n",
       "      (conv2): Conv2d(128, 128, kernel_size=(3, 3), stride=(1, 1), padding=(1, 1), bias=False)\n",
       "      (bn2): BatchNorm2d(128, eps=1e-05, momentum=0.1, affine=True, track_running_stats=True)\n",
       "    )\n",
       "  )\n",
       "  (layer3): Sequential(\n",
       "    (0): BasicBlock(\n",
       "      (conv1): Conv2d(128, 256, kernel_size=(3, 3), stride=(2, 2), padding=(1, 1), bias=False)\n",
       "      (bn1): BatchNorm2d(256, eps=1e-05, momentum=0.1, affine=True, track_running_stats=True)\n",
       "      (relu): ReLU(inplace=True)\n",
       "      (conv2): Conv2d(256, 256, kernel_size=(3, 3), stride=(1, 1), padding=(1, 1), bias=False)\n",
       "      (bn2): BatchNorm2d(256, eps=1e-05, momentum=0.1, affine=True, track_running_stats=True)\n",
       "      (downsample): Sequential(\n",
       "        (0): Conv2d(128, 256, kernel_size=(1, 1), stride=(2, 2), bias=False)\n",
       "        (1): BatchNorm2d(256, eps=1e-05, momentum=0.1, affine=True, track_running_stats=True)\n",
       "      )\n",
       "    )\n",
       "    (1): BasicBlock(\n",
       "      (conv1): Conv2d(256, 256, kernel_size=(3, 3), stride=(1, 1), padding=(1, 1), bias=False)\n",
       "      (bn1): BatchNorm2d(256, eps=1e-05, momentum=0.1, affine=True, track_running_stats=True)\n",
       "      (relu): ReLU(inplace=True)\n",
       "      (conv2): Conv2d(256, 256, kernel_size=(3, 3), stride=(1, 1), padding=(1, 1), bias=False)\n",
       "      (bn2): BatchNorm2d(256, eps=1e-05, momentum=0.1, affine=True, track_running_stats=True)\n",
       "    )\n",
       "  )\n",
       "  (layer4): Sequential(\n",
       "    (0): BasicBlock(\n",
       "      (conv1): Conv2d(256, 512, kernel_size=(3, 3), stride=(2, 2), padding=(1, 1), bias=False)\n",
       "      (bn1): BatchNorm2d(512, eps=1e-05, momentum=0.1, affine=True, track_running_stats=True)\n",
       "      (relu): ReLU(inplace=True)\n",
       "      (conv2): Conv2d(512, 512, kernel_size=(3, 3), stride=(1, 1), padding=(1, 1), bias=False)\n",
       "      (bn2): BatchNorm2d(512, eps=1e-05, momentum=0.1, affine=True, track_running_stats=True)\n",
       "      (downsample): Sequential(\n",
       "        (0): Conv2d(256, 512, kernel_size=(1, 1), stride=(2, 2), bias=False)\n",
       "        (1): BatchNorm2d(512, eps=1e-05, momentum=0.1, affine=True, track_running_stats=True)\n",
       "      )\n",
       "    )\n",
       "    (1): BasicBlock(\n",
       "      (conv1): Conv2d(512, 512, kernel_size=(3, 3), stride=(1, 1), padding=(1, 1), bias=False)\n",
       "      (bn1): BatchNorm2d(512, eps=1e-05, momentum=0.1, affine=True, track_running_stats=True)\n",
       "      (relu): ReLU(inplace=True)\n",
       "      (conv2): Conv2d(512, 512, kernel_size=(3, 3), stride=(1, 1), padding=(1, 1), bias=False)\n",
       "      (bn2): BatchNorm2d(512, eps=1e-05, momentum=0.1, affine=True, track_running_stats=True)\n",
       "    )\n",
       "  )\n",
       "  (avgpool): AdaptiveAvgPool2d(output_size=(1, 1))\n",
       "  (fc): Sequential(\n",
       "    (0): BatchNorm1d(512, eps=1e-05, momentum=0.1, affine=True, track_running_stats=True)\n",
       "    (1): ReLU()\n",
       "    (2): Dropout(p=0.5, inplace=False)\n",
       "    (3): Linear(in_features=512, out_features=250, bias=True)\n",
       "    (4): BatchNorm1d(250, eps=1e-05, momentum=0.1, affine=True, track_running_stats=True)\n",
       "    (5): ReLU()\n",
       "    (6): Dropout(p=0.5, inplace=False)\n",
       "    (7): Linear(in_features=250, out_features=10, bias=True)\n",
       "  )\n",
       ")"
      ]
     },
     "execution_count": 74,
     "metadata": {},
     "output_type": "execute_result"
    }
   ],
   "source": [
    "model"
   ]
  },
  {
   "cell_type": "code",
   "execution_count": 75,
   "metadata": {},
   "outputs": [],
   "source": [
    "\n",
    "model = model.to(device)\n",
    "criterion = nn.CrossEntropyLoss()\n",
    "optimizer = torch.optim.Adam(model.parameters(), lr=0.001)"
   ]
  },
  {
   "cell_type": "code",
   "execution_count": 87,
   "metadata": {},
   "outputs": [
    {
     "name": "stdout",
     "output_type": "stream",
     "text": [
      "model/state-ResNet-optimizer-Adam-loss-CrossEntropyLoss.pth exist\n"
     ]
    },
    {
     "name": "stderr",
     "output_type": "stream",
     "text": [
      "                                                                                     \r"
     ]
    },
    {
     "name": "stdout",
     "output_type": "stream",
     "text": [
      "[27s] Epoch 57 loss : 2.24820177 acc: 25.48 val: 2.22687338 acc: 28.19%\n"
     ]
    },
    {
     "name": "stderr",
     "output_type": "stream",
     "text": [
      "                                                                                     \r"
     ]
    },
    {
     "name": "stdout",
     "output_type": "stream",
     "text": [
      "[33s] Epoch 58 loss : 2.24771082 acc: 23.82 val: 2.22190168 acc: 25.42%\n"
     ]
    },
    {
     "name": "stderr",
     "output_type": "stream",
     "text": [
      "                                                                                     \r"
     ]
    },
    {
     "name": "stdout",
     "output_type": "stream",
     "text": [
      "[34s] Epoch 59 loss : 2.24654090 acc: 21.34 val: 2.22159092 acc: 23.17%\n"
     ]
    },
    {
     "name": "stderr",
     "output_type": "stream",
     "text": [
      "                                                                                     \r"
     ]
    },
    {
     "name": "stdout",
     "output_type": "stream",
     "text": [
      "Stopping Saving\n"
     ]
    },
    {
     "data": {
      "image/png": "[encoded data removed]",
      "text/plain": [
       "<Figure size 640x480 with 1 Axes>"
      ]
     },
     "metadata": {},
     "output_type": "display_data"
    }
   ],
   "source": [
    "from train import train\n",
    "from easydict import EasyDict\n",
    "\n",
    "datasets = EasyDict({\n",
    "    \"train\": train_dataset,\n",
    "    \"val\": test_dataset,\n",
    "    \"test\": test_dataset,\n",
    "})\n",
    "data_loaders = EasyDict({\n",
    "    \"train\": train_loader,\n",
    "    \"val\": test_loader,\n",
    "    \"test\": test_loader,\n",
    "})\n",
    "\n",
    "state = train(\n",
    "    net=model,\n",
    "    criterion=criterion,\n",
    "    optimizer=optimizer,\n",
    "    dataset=datasets,\n",
    "    data_loader=data_loaders,\n",
    "    device=device,\n",
    "    epochs=200,\n",
    ")\n"
   ]
  },
  {
   "cell_type": "code",
   "execution_count": 77,
   "metadata": {},
   "outputs": [],
   "source": [
    "a, b = next(iter(data_loaders.train))"
   ]
  },
  {
   "cell_type": "code",
   "execution_count": 78,
   "metadata": {},
   "outputs": [],
   "source": [
    "l = model(a.to(device))"
   ]
  },
  {
   "cell_type": "code",
   "execution_count": 82,
   "metadata": {},
   "outputs": [
    {
     "data": {
      "text/plain": [
       "torch.Size([64, 10])"
      ]
     },
     "execution_count": 82,
     "metadata": {},
     "output_type": "execute_result"
    }
   ],
   "source": [
    "l.shape"
   ]
  },
  {
   "cell_type": "code",
   "execution_count": 85,
   "metadata": {},
   "outputs": [
    {
     "data": {
      "text/plain": [
       "tensor([[5.6267e-06, 4.2874e-10, 3.0328e-15, 2.6700e-18, 1.5193e-18, 1.5028e-18,\n",
       "         2.5762e-21, 1.2889e-01, 7.1350e-03, 3.2336e-15],\n",
       "        [1.0605e-05, 2.1821e-18, 3.2736e-08, 1.8741e-06, 1.5440e-09, 3.1704e-10,\n",
       "         2.9233e-12, 1.2376e-05, 4.3732e-11, 4.6267e-04],\n",
       "        [3.0671e-11, 3.0631e-22, 6.9922e-02, 1.4233e-10, 6.0041e-05, 4.0842e-08,\n",
       "         3.5715e-08, 1.2968e-16, 3.2758e-14, 2.0328e-11],\n",
       "        [2.9580e-04, 2.4430e-16, 2.9255e-09, 1.4900e-05, 7.2290e-13, 1.2992e-10,\n",
       "         3.1405e-16, 1.0814e-05, 3.7551e-14, 5.1482e-11],\n",
       "        [5.6135e-04, 2.0974e-15, 4.9737e-12, 7.4959e-14, 1.8091e-08, 5.4890e-17,\n",
       "         2.2380e-15, 1.4145e-01, 5.5046e-08, 7.5654e-08],\n",
       "        [1.3301e-11, 3.4366e-10, 1.7942e-12, 4.4320e-11, 8.9354e-19, 4.3932e-21,\n",
       "         1.6013e-12, 1.8034e-15, 9.3712e-01, 2.0231e-17],\n",
       "        [1.3758e-11, 1.5601e-15, 1.7604e-13, 1.2427e-05, 2.5137e-18, 5.0987e-06,\n",
       "         9.9942e-18, 3.7349e-08, 1.0594e-05, 1.0408e-13],\n",
       "        [2.0041e-08, 7.5445e-14, 1.1057e-09, 1.4746e-09, 6.9660e-09, 3.3022e-12,\n",
       "         7.9548e-11, 2.5951e-10, 2.7640e-08, 9.1264e-07],\n",
       "        [2.0511e-13, 3.5648e-14, 5.7030e-11, 2.2913e-06, 1.4938e-11, 8.0798e-04,\n",
       "         5.1142e-11, 5.6717e-14, 2.6465e-11, 1.0358e-09],\n",
       "        [6.6937e-14, 7.6266e-14, 5.7210e-09, 2.5843e-11, 1.4669e-09, 6.3616e-11,\n",
       "         1.6792e-05, 8.8575e-13, 1.6918e-05, 3.7565e-06],\n",
       "        [1.6827e-13, 2.1368e-15, 8.8986e-09, 2.8760e-04, 3.0848e-07, 6.5255e-10,\n",
       "         7.5286e-13, 1.3312e-12, 8.6210e-10, 3.6227e-09],\n",
       "        [7.2595e-10, 1.0715e-16, 3.5617e-06, 9.0670e-07, 1.3688e-06, 1.0466e-07,\n",
       "         1.3069e-11, 3.9776e-11, 9.9797e-11, 3.2838e-04],\n",
       "        [8.5242e-10, 7.1311e-19, 1.2643e-07, 7.0372e-11, 1.4044e-08, 2.8911e-09,\n",
       "         1.6172e-06, 1.6137e-13, 6.3567e-08, 4.3049e-08],\n",
       "        [2.2301e-15, 1.8512e-19, 9.9559e-11, 1.1071e-01, 5.5416e-13, 4.5847e-03,\n",
       "         2.5812e-09, 3.0542e-17, 1.1083e-13, 8.5509e-13],\n",
       "        [2.7968e-17, 4.5613e-15, 3.4002e-06, 1.3703e-09, 1.7926e-06, 2.4225e-06,\n",
       "         1.1390e-09, 3.6588e-17, 8.4949e-10, 1.8242e-09],\n",
       "        [1.1819e-04, 2.5248e-16, 1.8785e-10, 4.1661e-14, 9.3001e-14, 1.5414e-14,\n",
       "         1.0152e-07, 1.3637e-07, 9.9137e-06, 8.5838e-08],\n",
       "        [1.9597e-17, 1.1666e-17, 5.3803e-16, 3.8007e-07, 3.1514e-15, 5.3111e-11,\n",
       "         1.2837e-01, 1.3863e-16, 8.0896e-07, 5.3118e-18],\n",
       "        [1.4995e-09, 4.6950e-14, 8.5489e-11, 3.0745e-08, 1.6951e-07, 5.7385e-11,\n",
       "         3.4920e-14, 2.6017e-06, 2.4839e-06, 9.4731e-05],\n",
       "        [4.2539e-08, 2.7644e-18, 5.5709e-08, 7.1760e-09, 3.0246e-04, 1.3479e-13,\n",
       "         2.0296e-13, 3.1480e-07, 2.3372e-11, 3.3919e-08],\n",
       "        [1.0487e-08, 6.7036e-18, 1.8146e-10, 3.8130e-07, 6.7215e-05, 7.1167e-09,\n",
       "         1.6500e-11, 4.0952e-07, 1.9816e-09, 2.6603e-04],\n",
       "        [5.9182e-10, 1.7057e-08, 3.0620e-15, 1.4956e-10, 3.3876e-18, 7.2302e-17,\n",
       "         6.2032e-12, 2.5003e-12, 4.2731e-02, 8.9408e-13],\n",
       "        [6.3898e-09, 3.3465e-14, 2.0836e-01, 4.7848e-10, 4.0901e-10, 8.8552e-12,\n",
       "         3.5775e-17, 1.9122e-10, 2.5744e-15, 1.3688e-10],\n",
       "        [1.2113e-06, 2.4983e-15, 5.4559e-09, 7.0045e-07, 1.3441e-09, 1.4541e-14,\n",
       "         3.2613e-13, 5.5019e-07, 6.7251e-11, 6.2530e-09],\n",
       "        [2.0705e-13, 3.0183e-06, 4.1438e-14, 1.7473e-10, 2.9195e-22, 3.0397e-18,\n",
       "         5.4407e-25, 7.9851e-04, 7.0430e-08, 3.6958e-21],\n",
       "        [5.2031e-12, 1.9831e-17, 2.6840e-08, 6.6107e-06, 8.8038e-11, 2.1400e-06,\n",
       "         8.3482e-07, 7.9398e-12, 2.8771e-09, 6.4857e-07],\n",
       "        [8.6613e-13, 2.5936e-22, 4.9611e-06, 6.5427e-09, 2.2149e-07, 9.8717e-09,\n",
       "         1.1267e-02, 1.8958e-17, 3.2471e-13, 4.9552e-11],\n",
       "        [8.1983e-19, 1.0000e+00, 2.0080e-16, 2.1413e-13, 3.7939e-19, 5.8493e-13,\n",
       "         1.8645e-20, 2.1146e-17, 4.7388e-06, 4.4468e-26],\n",
       "        [9.7245e-17, 3.0665e-22, 4.5079e-07, 8.8868e-01, 3.6896e-08, 4.7818e-12,\n",
       "         2.5619e-13, 2.6133e-11, 6.1862e-17, 4.4076e-17],\n",
       "        [2.8415e-03, 7.0219e-15, 4.3397e-06, 3.2227e-11, 9.7178e-10, 2.6245e-13,\n",
       "         7.5946e-11, 3.5406e-09, 1.2848e-11, 9.1876e-06],\n",
       "        [7.8135e-05, 2.3700e-16, 2.4817e-09, 1.0056e-12, 3.4867e-07, 1.2442e-13,\n",
       "         6.6512e-12, 5.8475e-04, 1.1342e-08, 3.2828e-05],\n",
       "        [2.5397e-09, 1.4575e-17, 1.8309e-06, 2.3681e-05, 7.3056e-07, 5.6088e-09,\n",
       "         1.0970e-12, 1.0242e-10, 1.0915e-08, 5.5631e-04],\n",
       "        [3.7732e-08, 3.8832e-16, 1.0720e-09, 6.1741e-05, 5.4324e-15, 4.4629e-12,\n",
       "         1.0711e-16, 7.2095e-01, 2.7074e-14, 8.7204e-12],\n",
       "        [4.1980e-10, 9.1174e-13, 8.1716e-07, 2.7102e-10, 3.2660e-11, 3.5910e-10,\n",
       "         1.2280e-12, 1.0627e-07, 5.9663e-09, 3.2677e-05],\n",
       "        [1.7155e-10, 4.4570e-14, 2.0108e-11, 7.0104e-11, 1.4598e-08, 3.0418e-11,\n",
       "         3.6632e-09, 8.8101e-15, 1.5966e-04, 1.4143e-09],\n",
       "        [1.7188e-03, 1.1526e-19, 6.4104e-10, 4.6873e-10, 1.7404e-05, 6.2592e-12,\n",
       "         3.5386e-11, 1.7790e-08, 5.9260e-11, 4.3859e-08],\n",
       "        [5.5914e-04, 4.9467e-20, 4.8287e-07, 1.1405e-11, 1.4368e-12, 2.2066e-13,\n",
       "         5.4626e-06, 9.4736e-10, 4.7340e-10, 8.6159e-10],\n",
       "        [1.6205e-14, 7.3887e-24, 4.3943e-12, 9.3312e-05, 6.3509e-11, 5.8743e-08,\n",
       "         8.6024e-01, 1.0196e-13, 2.8025e-14, 4.0736e-12],\n",
       "        [8.3604e-01, 2.8775e-21, 1.6452e-02, 1.0951e-12, 8.3630e-10, 1.2795e-17,\n",
       "         2.9243e-15, 2.5141e-07, 1.4866e-16, 2.3116e-14],\n",
       "        [3.9203e-10, 1.1278e-12, 8.0067e-10, 5.1702e-07, 3.0929e-13, 3.4550e-08,\n",
       "         1.5557e-10, 2.2672e-12, 1.5614e-06, 3.6862e-03],\n",
       "        [8.9740e-11, 8.5877e-18, 2.4863e-05, 2.0141e-06, 1.6506e-09, 5.9144e-11,\n",
       "         1.1052e-09, 1.9709e-11, 1.4349e-11, 2.8654e-08],\n",
       "        [4.1081e-04, 3.0820e-23, 2.8347e-02, 1.3484e-12, 1.1196e-05, 1.1044e-12,\n",
       "         2.9735e-17, 5.5789e-12, 5.1927e-17, 7.1872e-17],\n",
       "        [8.3823e-09, 8.9429e-23, 1.0604e-03, 4.6288e-11, 9.2144e-01, 3.2643e-13,\n",
       "         3.4462e-12, 7.1316e-12, 9.2480e-16, 1.2534e-12],\n",
       "        [4.4498e-09, 1.5965e-16, 8.2829e-08, 3.5387e-06, 7.8270e-06, 1.0513e-08,\n",
       "         6.5369e-11, 5.8965e-08, 5.1856e-09, 9.8742e-01],\n",
       "        [1.1239e-06, 1.7617e-14, 3.3495e-09, 6.6981e-10, 1.0267e-06, 1.8866e-13,\n",
       "         2.5238e-09, 1.0393e-06, 2.0950e-08, 6.2203e-03],\n",
       "        [1.6725e-11, 2.1248e-19, 1.6380e-09, 8.2723e-05, 1.5137e-07, 4.9678e-08,\n",
       "         7.9184e-05, 8.3463e-15, 6.0780e-13, 2.1875e-06],\n",
       "        [1.2945e-12, 2.0611e-12, 5.9142e-08, 1.2176e-07, 1.5519e-06, 5.3227e-10,\n",
       "         2.9023e-14, 1.0939e-09, 1.8103e-08, 1.6725e-06],\n",
       "        [5.0613e-06, 5.7921e-18, 7.1386e-09, 2.2704e-09, 5.0200e-08, 1.2775e-13,\n",
       "         4.2282e-13, 6.2114e-04, 4.0262e-11, 4.4805e-07],\n",
       "        [3.4472e-12, 2.5437e-14, 2.9229e-10, 2.9694e-12, 2.1988e-02, 4.1079e-15,\n",
       "         3.1132e-12, 2.8829e-09, 2.0844e-08, 1.0569e-09],\n",
       "        [1.6960e-07, 3.3442e-14, 8.8455e-14, 4.2562e-12, 1.3927e-08, 2.6077e-14,\n",
       "         1.7728e-11, 1.9606e-05, 1.0531e-03, 2.5938e-05],\n",
       "        [3.7981e-06, 1.2614e-15, 2.9045e-10, 2.5031e-09, 1.0365e-09, 1.4894e-10,\n",
       "         4.8150e-11, 3.1862e-09, 1.7065e-06, 6.0779e-04],\n",
       "        [1.5730e-01, 9.4980e-12, 6.7163e-01, 1.1186e-15, 3.5491e-18, 7.5202e-14,\n",
       "         1.9034e-25, 2.7910e-18, 1.6928e-21, 3.4474e-29],\n",
       "        [2.8937e-07, 1.0105e-14, 6.2810e-09, 3.0437e-09, 1.5959e-10, 5.0304e-11,\n",
       "         5.5971e-14, 4.2238e-03, 1.3375e-09, 2.3749e-05],\n",
       "        [1.0369e-07, 1.4860e-10, 9.7824e-14, 7.6988e-13, 2.8010e-09, 3.5673e-14,\n",
       "         1.5043e-13, 3.6056e-13, 1.1508e-02, 1.6583e-11],\n",
       "        [1.3777e-05, 5.4549e-20, 8.6534e-12, 4.4715e-09, 3.5456e-17, 9.9651e-12,\n",
       "         1.7815e-10, 3.5998e-12, 2.1959e-04, 1.4488e-13],\n",
       "        [1.7498e-06, 1.7546e-18, 4.1661e-03, 3.1630e-08, 3.0713e-08, 1.5057e-10,\n",
       "         5.0159e-10, 1.9954e-09, 1.4787e-12, 1.3095e-04],\n",
       "        [5.7975e-09, 5.6646e-19, 1.5371e-05, 1.7595e-10, 5.2892e-02, 1.1826e-12,\n",
       "         1.3966e-08, 1.9559e-10, 4.1285e-11, 2.5472e-05],\n",
       "        [6.0376e-18, 1.3677e-18, 2.2470e-08, 1.4231e-07, 3.1988e-03, 1.5272e-12,\n",
       "         5.4503e-08, 5.3757e-16, 3.1944e-11, 3.2777e-13],\n",
       "        [2.9854e-11, 7.9615e-14, 8.4059e-07, 1.4263e-05, 5.9582e-06, 1.6287e-10,\n",
       "         1.1633e-11, 9.7024e-13, 4.3118e-11, 2.6730e-05],\n",
       "        [1.1305e-22, 1.1528e-22, 5.3235e-14, 1.2350e-08, 3.8214e-07, 9.9460e-01,\n",
       "         2.2382e-10, 9.9053e-19, 4.4825e-07, 4.6189e-21],\n",
       "        [1.6900e-06, 4.3450e-17, 7.3875e-09, 7.3720e-10, 8.6215e-07, 4.7757e-10,\n",
       "         3.6595e-14, 7.2407e-05, 2.5039e-09, 4.2631e-05],\n",
       "        [6.2542e-09, 5.6975e-15, 3.8257e-14, 3.6113e-11, 3.8286e-08, 6.1735e-16,\n",
       "         4.7026e-12, 2.3549e-03, 2.5265e-05, 1.1001e-06],\n",
       "        [2.9128e-05, 6.8521e-21, 1.7963e-08, 1.0841e-13, 1.7886e-12, 1.6326e-11,\n",
       "         1.0000e-05, 3.0930e-09, 1.1691e-11, 2.3619e-11],\n",
       "        [8.8652e-13, 2.7202e-11, 5.6438e-11, 2.9547e-08, 1.5653e-15, 7.6423e-08,\n",
       "         4.1683e-15, 2.0534e-11, 9.2965e-07, 2.0176e-08],\n",
       "        [9.4082e-09, 3.6241e-18, 2.3139e-07, 2.1768e-09, 1.0328e-09, 2.8975e-11,\n",
       "         5.5048e-06, 2.2565e-12, 3.8902e-11, 1.2199e-07]], device='cuda:0',\n",
       "       grad_fn=<SoftmaxBackward0>)"
      ]
     },
     "execution_count": 85,
     "metadata": {},
     "output_type": "execute_result"
    }
   ],
   "source": [
    "from torch.functional import F\n",
    "F.softmax(l, dim=0)"
   ]
  },
  {
   "cell_type": "code",
   "execution_count": 86,
   "metadata": {},
   "outputs": [
    {
     "data": {
      "text/plain": [
       "tensor([[3.0108e-05, 2.6125e-02, 1.8509e-14, 6.1149e-17, 3.0056e-18, 2.0504e-15,\n",
       "         1.0968e-17, 8.9591e-01, 7.7935e-02, 3.0775e-27],\n",
       "        [3.0453e-01, 7.1354e-07, 1.0721e-03, 2.3033e-01, 1.6391e-05, 2.3213e-03,\n",
       "         6.6789e-05, 4.6166e-01, 2.5635e-06, 2.3631e-12],\n",
       "        [3.8431e-10, 4.3707e-14, 9.9924e-01, 7.6331e-09, 2.7814e-04, 1.3048e-04,\n",
       "         3.5605e-04, 2.1107e-15, 8.3788e-13, 4.5304e-23],\n",
       "        [7.9163e-01, 7.4452e-06, 8.9294e-06, 1.7067e-01, 7.1526e-10, 8.8653e-05,\n",
       "         6.6871e-10, 3.7594e-02, 2.0514e-10, 2.4506e-20],\n",
       "        [3.0457e-03, 1.2959e-07, 3.0778e-11, 1.7407e-12, 3.6289e-08, 7.5937e-14,\n",
       "         9.6613e-12, 9.9695e-01, 6.0967e-07, 7.3010e-20],\n",
       "        [6.9391e-12, 2.0416e-03, 1.0675e-12, 9.8962e-11, 1.7234e-19, 5.8438e-19,\n",
       "         6.6467e-10, 1.2221e-15, 9.9796e-01, 1.8772e-30],\n",
       "        [1.0007e-08, 1.2921e-05, 1.4602e-10, 3.8685e-02, 6.7591e-16, 9.4554e-01,\n",
       "         5.7834e-12, 3.5286e-05, 1.5729e-02, 1.3465e-23],\n",
       "        [1.9838e-02, 8.5045e-01, 1.2484e-03, 6.2479e-03, 2.5493e-03, 8.3348e-04,\n",
       "         6.2651e-02, 3.3369e-04, 5.5851e-02, 1.6069e-13],\n",
       "        [9.9557e-13, 1.9704e-06, 3.1570e-10, 4.7601e-05, 2.6806e-11, 9.9995e-01,\n",
       "         1.9750e-07, 3.5760e-13, 2.6222e-10, 8.9419e-22],\n",
       "        [4.9969e-12, 6.4833e-05, 4.8708e-07, 8.2571e-09, 4.0485e-08, 1.2109e-06,\n",
       "         9.9736e-01, 8.5892e-11, 2.5780e-03, 4.9877e-17],\n",
       "        [1.3666e-10, 1.9762e-05, 8.2425e-06, 9.9974e-01, 9.2623e-05, 1.3513e-04,\n",
       "         4.8648e-07, 1.4044e-09, 1.4292e-06, 5.2331e-19],\n",
       "        [2.0654e-05, 3.4714e-05, 1.1557e-01, 1.1041e-01, 1.4398e-02, 7.5926e-01,\n",
       "         2.9583e-04, 1.4700e-06, 5.7959e-06, 1.6617e-12],\n",
       "        [6.6199e-07, 6.3064e-09, 1.1198e-04, 2.3391e-07, 4.0321e-06, 5.7247e-04,\n",
       "         9.9921e-01, 1.6279e-10, 1.0077e-04, 5.9463e-18],\n",
       "        [1.3575e-15, 1.2832e-12, 6.9116e-11, 2.8844e-01, 1.2471e-13, 7.1156e-01,\n",
       "         1.2501e-06, 2.4149e-17, 1.3771e-13, 9.2577e-26],\n",
       "        [4.4879e-14, 8.3348e-05, 6.2228e-03, 9.4112e-06, 1.0634e-03, 9.9116e-01,\n",
       "         1.4542e-03, 7.6265e-14, 2.7826e-06, 5.2065e-19],\n",
       "        [5.3874e-01, 1.3105e-05, 9.7657e-07, 8.1279e-10, 1.5673e-10, 1.7915e-08,\n",
       "         3.6819e-01, 8.0744e-04, 9.2244e-02, 6.9593e-17],\n",
       "        [1.9187e-19, 1.3007e-12, 6.0077e-18, 1.5927e-08, 1.1407e-17, 1.3258e-10,\n",
       "         1.0000e+00, 1.7631e-18, 1.6168e-08, 9.2500e-33],\n",
       "        [1.6308e-04, 5.8144e-02, 1.0604e-05, 1.4311e-02, 6.8155e-03, 1.5912e-03,\n",
       "         3.0215e-06, 3.6755e-01, 5.5141e-01, 1.8324e-12],\n",
       "        [3.7857e-04, 2.8015e-07, 5.6543e-04, 2.7334e-04, 9.9514e-01, 3.0586e-07,\n",
       "         1.4371e-06, 3.6392e-03, 4.2459e-07, 5.3691e-17],\n",
       "        [3.6344e-04, 2.6454e-06, 7.1721e-06, 5.6557e-02, 8.6116e-01, 6.2883e-02,\n",
       "         4.5493e-04, 1.8435e-02, 1.4018e-04, 1.6397e-12],\n",
       "        [2.1027e-09, 6.9010e-01, 1.2407e-14, 2.2744e-09, 4.4496e-18, 6.5498e-14,\n",
       "         1.7535e-08, 1.1539e-11, 3.0990e-01, 5.6500e-25],\n",
       "        [2.6889e-08, 1.6037e-06, 1.0000e+00, 8.6180e-09, 6.3632e-10, 9.5013e-09,\n",
       "         1.1978e-13, 1.0453e-09, 2.2114e-14, 1.0245e-22],\n",
       "        [2.4424e-01, 5.7363e-03, 1.2546e-03, 6.0448e-01, 1.0019e-04, 7.4753e-07,\n",
       "         5.2319e-05, 1.4410e-01, 2.7680e-05, 2.2425e-16],\n",
       "        [6.0240e-15, 9.9997e-01, 1.3750e-15, 2.1758e-11, 3.1402e-24, 2.2549e-17,\n",
       "         1.2594e-23, 3.0178e-05, 4.1828e-09, 1.9125e-35],\n",
       "        [4.2023e-09, 1.8238e-07, 2.4723e-05, 2.2852e-02, 2.6287e-08, 4.4068e-01,\n",
       "         5.3643e-01, 8.3298e-09, 4.7432e-06, 9.3167e-17],\n",
       "        [9.6618e-14, 3.2946e-16, 6.3116e-07, 3.1238e-09, 9.1344e-09, 2.8078e-07,\n",
       "         1.0000e+00, 2.7470e-18, 7.3939e-14, 9.8316e-25],\n",
       "        [7.1994e-26, 1.0000e+00, 2.0111e-23, 8.0483e-20, 1.2317e-26, 1.3097e-17,\n",
       "         1.3027e-24, 2.4122e-24, 8.4946e-13, 0.0000e+00],\n",
       "        [2.5567e-17, 9.1806e-16, 1.3517e-07, 1.0000e+00, 3.5863e-09, 3.2055e-10,\n",
       "         5.3588e-11, 8.9248e-12, 3.3200e-17, 2.0611e-30],\n",
       "        [9.9821e-01, 2.8090e-05, 1.7387e-03, 4.8456e-08, 1.2621e-07, 2.3508e-08,\n",
       "         2.1227e-05, 1.6157e-06, 9.2134e-09, 5.7407e-16],\n",
       "        [9.3254e-02, 3.2210e-06, 3.3780e-06, 5.1371e-09, 1.5385e-04, 3.7862e-08,\n",
       "         6.3158e-06, 9.0655e-01, 2.7633e-05, 6.9687e-15],\n",
       "        [2.4147e-05, 1.5781e-06, 1.9855e-02, 9.6373e-01, 2.5681e-03, 1.3598e-02,\n",
       "         8.2984e-06, 1.2649e-06, 2.1185e-04, 9.4081e-13],\n",
       "        [4.0279e-08, 4.7205e-09, 1.3051e-09, 2.8209e-04, 2.1439e-15, 1.2147e-09,\n",
       "         9.0975e-14, 9.9972e-01, 5.8997e-14, 1.6557e-24],\n",
       "        [3.6319e-05, 8.9823e-01, 8.0628e-02, 1.0035e-04, 1.0446e-06, 7.9213e-03,\n",
       "         8.4526e-05, 1.1943e-02, 1.0537e-03, 5.0283e-13],\n",
       "        [5.2088e-07, 1.5411e-03, 6.9634e-08, 9.1106e-07, 1.6387e-05, 2.3549e-05,\n",
       "         8.8494e-03, 3.4748e-11, 9.8957e-01, 7.6379e-19],\n",
       "        [9.9624e-01, 7.6074e-10, 4.2376e-07, 1.1628e-06, 3.7294e-03, 9.2503e-07,\n",
       "         1.6318e-05, 1.3394e-05, 7.0115e-08, 4.5216e-18],\n",
       "        [1.1397e-01, 1.1482e-10, 1.1226e-04, 9.9503e-09, 1.0828e-10, 1.1468e-08,\n",
       "         8.8591e-01, 2.5085e-07, 1.9698e-07, 3.1238e-20],\n",
       "        [2.3677e-17, 1.2293e-19, 7.3225e-15, 5.8353e-07, 3.4306e-14, 2.1884e-08,\n",
       "         1.0000e+00, 1.9352e-16, 8.3585e-17, 1.0586e-27],\n",
       "        [9.7805e-01, 3.8333e-14, 2.1950e-02, 5.4833e-12, 3.6170e-10, 3.8165e-15,\n",
       "         2.7218e-12, 3.8205e-07, 3.5500e-16, 4.8100e-27],\n",
       "        [1.4425e-05, 4.7256e-01, 3.3600e-05, 8.1422e-02, 4.2073e-09, 3.2414e-01,\n",
       "         4.5544e-03, 1.0836e-07, 1.1728e-01, 2.4124e-11],\n",
       "        [2.3696e-06, 2.5822e-06, 7.4874e-01, 2.2762e-01, 1.6113e-05, 3.9819e-04,\n",
       "         2.3218e-02, 6.7602e-07, 7.7339e-07, 1.3457e-16],\n",
       "        [1.2546e-02, 1.0718e-14, 9.8733e-01, 1.7626e-10, 1.2641e-04, 8.5997e-09,\n",
       "         7.2250e-13, 2.2132e-10, 3.2372e-15, 3.9040e-28],\n",
       "        [2.4519e-08, 2.9788e-15, 3.5375e-03, 5.7951e-10, 9.9646e-01, 2.4346e-10,\n",
       "         8.0202e-09, 2.7098e-11, 5.5219e-15, 6.5213e-25],\n",
       "        [2.1230e-04, 8.6735e-05, 4.5070e-03, 7.2261e-01, 1.3806e-01, 1.2789e-01,\n",
       "         2.4814e-03, 3.6544e-03, 5.0503e-04, 8.3792e-09],\n",
       "        [2.1987e-01, 3.9245e-02, 7.4732e-04, 5.6084e-04, 7.4256e-02, 9.4102e-06,\n",
       "         3.9282e-01, 2.6412e-01, 8.3659e-03, 2.1644e-10],\n",
       "        [2.6393e-10, 3.8185e-11, 2.9481e-08, 5.5874e-03, 8.8315e-07, 1.9989e-04,\n",
       "         9.9421e-01, 1.7109e-13, 1.9579e-11, 6.1401e-18],\n",
       "        [5.2183e-08, 9.4613e-01, 2.7191e-03, 2.1008e-02, 2.3128e-02, 5.4709e-03,\n",
       "         9.3086e-07, 5.7283e-05, 1.4896e-03, 1.1992e-14],\n",
       "        [6.2335e-03, 8.1233e-08, 1.0027e-05, 1.1968e-05, 2.2857e-05, 4.0116e-08,\n",
       "         4.1432e-07, 9.9372e-01, 1.0122e-07, 9.8149e-17],\n",
       "        [4.2405e-10, 3.5632e-05, 4.1007e-08, 1.5634e-09, 9.9996e-01, 1.2884e-10,\n",
       "         3.0469e-07, 4.6066e-07, 5.2340e-06, 2.3125e-20],\n",
       "        [7.7952e-05, 1.7503e-04, 4.6368e-11, 8.3729e-09, 2.3666e-06, 3.0560e-09,\n",
       "         6.4829e-06, 1.1706e-02, 9.8803e-01, 2.1205e-15],\n",
       "        [5.1411e-01, 1.9443e-03, 4.4839e-05, 1.4501e-03, 5.1870e-05, 5.1401e-03,\n",
       "         5.1854e-03, 5.6022e-04, 4.7152e-01, 1.4633e-11],\n",
       "        [1.7035e-01, 1.1713e-04, 8.2953e-01, 5.1849e-15, 1.4209e-18, 2.0765e-11,\n",
       "         1.6400e-22, 3.9262e-18, 3.7421e-21, 6.6394e-42],\n",
       "        [5.2735e-05, 2.0972e-05, 1.3055e-06, 2.3741e-06, 1.0753e-08, 2.3375e-06,\n",
       "         8.1156e-09, 9.9992e-01, 4.9757e-07, 7.6980e-16],\n",
       "        [4.1172e-06, 6.7195e-02, 4.4302e-12, 1.3085e-10, 4.1120e-08, 3.6118e-10,\n",
       "         4.7525e-09, 1.8598e-11, 9.3280e-01, 1.1712e-22],\n",
       "        [2.9808e-02, 1.3440e-09, 2.1353e-08, 4.1408e-05, 2.8362e-14, 5.4974e-06,\n",
       "         3.0668e-04, 1.0117e-08, 9.6984e-01, 5.5754e-23],\n",
       "        [3.6808e-04, 4.2032e-09, 9.9951e-01, 2.8478e-05, 2.3886e-06, 8.0758e-06,\n",
       "         8.3949e-05, 5.4526e-07, 6.3495e-10, 4.8994e-15],\n",
       "        [2.9605e-07, 3.2940e-10, 8.9518e-04, 3.8456e-08, 9.9854e-01, 1.5397e-08,\n",
       "         5.6741e-04, 1.2974e-08, 4.3035e-09, 2.3136e-16],\n",
       "        [4.9222e-15, 1.2698e-08, 2.0892e-05, 4.9656e-04, 9.6413e-01, 3.1747e-07,\n",
       "         3.5352e-02, 5.6929e-13, 5.3161e-08, 4.7528e-23],\n",
       "        [4.5811e-07, 1.3912e-02, 1.4711e-02, 9.3679e-01, 3.3802e-02, 6.3726e-04,\n",
       "         1.4203e-04, 1.9340e-08, 1.3506e-06, 7.2957e-14],\n",
       "        [4.4577e-25, 5.1767e-18, 2.3942e-16, 2.0844e-10, 5.5711e-10, 1.0000e+00,\n",
       "         7.0221e-10, 5.0738e-21, 3.6081e-09, 3.2396e-36],\n",
       "        [1.7566e-02, 5.1431e-06, 8.7579e-05, 3.2798e-05, 3.3132e-03, 1.2657e-03,\n",
       "         3.0264e-07, 9.7768e-01, 5.3130e-05, 7.8817e-14],\n",
       "        [2.0105e-06, 2.0857e-05, 1.4026e-11, 4.9688e-08, 4.5502e-06, 5.0602e-11,\n",
       "         1.2028e-06, 9.8339e-01, 1.6579e-02, 6.2903e-17],\n",
       "        [3.6475e-03, 9.7709e-12, 2.5655e-06, 5.8102e-11, 8.2803e-11, 5.2125e-07,\n",
       "         9.9635e-01, 5.0312e-07, 2.9883e-09, 5.2605e-22],\n",
       "        [2.6761e-09, 9.3507e-01, 1.9430e-07, 3.8175e-04, 1.7469e-12, 5.8821e-02,\n",
       "         1.0011e-08, 8.0518e-08, 5.7285e-03, 1.0832e-17],\n",
       "        [2.1479e-06, 9.4220e-09, 6.0250e-05, 2.1271e-06, 8.7170e-08, 1.6867e-06,\n",
       "         9.9993e-01, 6.6919e-10, 1.8130e-08, 4.9538e-18]], device='cuda:0',\n",
       "       grad_fn=<SoftmaxBackward0>)"
      ]
     },
     "execution_count": 86,
     "metadata": {},
     "output_type": "execute_result"
    }
   ],
   "source": [
    "F.softmax(l, dim=1)"
   ]
  },
  {
   "cell_type": "code",
   "execution_count": null,
   "metadata": {},
   "outputs": [],
   "source": []
  }
 ],
 "metadata": {
  "kernelspec": {
   "display_name": "uni",
   "language": "python",
   "name": "python3"
  },
  "language_info": {
   "codemirror_mode": {
    "name": "ipython",
    "version": 3
   },
   "file_extension": ".py",
   "mimetype": "text/x-python",
   "name": "python",
   "nbconvert_exporter": "python",
   "pygments_lexer": "ipython3",
   "version": "3.11.2"
  },
  "orig_nbformat": 4
 },
 "nbformat": 4,
 "nbformat_minor": 2
}
